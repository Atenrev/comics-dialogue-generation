{
 "cells": [
  {
   "cell_type": "code",
   "execution_count": 9,
   "metadata": {},
   "outputs": [],
   "source": [
    "import pandas as pd\n",
    "from dataclasses import is_dataclass, asdict\n",
    "from dataclasses import dataclass\n",
    "from typing import List, Optional\n",
    "\n",
    "\n",
    "@dataclass\n",
    "class BoundingBox:\n",
    "    x1: int\n",
    "    y1: int\n",
    "    x2: int\n",
    "    y2: int\n",
    "\n",
    "@dataclass\n",
    "class Dialogue:\n",
    "    text: str\n",
    "    bb: BoundingBox\n",
    "\n",
    "@dataclass\n",
    "class Panel:\n",
    "    # To be added: features, etc.\n",
    "    dialogues: List[Dialogue]\n",
    "\n",
    "@dataclass\n",
    "class Sample:\n",
    "    context_panels: List[Panel]\n",
    "    answer_candidates: Optional[List[str]]\n",
    "    answer_target: Optional[Dialogue] = None"
   ]
  },
  {
   "cell_type": "markdown",
   "metadata": {},
   "source": [
    "## Reading Data"
   ]
  },
  {
   "cell_type": "code",
   "execution_count": 40,
   "metadata": {},
   "outputs": [
    {
     "name": "stderr",
     "output_type": "stream",
     "text": [
      "/home/smasip/anaconda3/envs/comics/lib/python3.9/site-packages/IPython/core/interactiveshell.py:3251: FutureWarning: In a future version of pandas all arguments of read_csv except for the argument 'filepath_or_buffer' will be keyword-only.\n",
      "  exec(code_obj, self.user_global_ns, self.user_ns)\n"
     ]
    }
   ],
   "source": [
    "df = pd.read_csv(\"../dataset/COMICS_ocr_file copy.csv\", ',')\n",
    "df = df.dropna()"
   ]
  },
  {
   "cell_type": "markdown",
   "metadata": {},
   "source": [
    "## Adding context"
   ]
  },
  {
   "cell_type": "code",
   "execution_count": 41,
   "metadata": {},
   "outputs": [],
   "source": [
    "samples_list: List[Sample] = []\n",
    "panel = Panel(dialogues=[])\n",
    "current_comic = 0\n",
    "current_panel = 0\n",
    "added_context_panels = 0\n",
    "\n",
    "for row in df.itertuples():\n",
    "    text = row.text\n",
    "    bb = BoundingBox(\n",
    "        x1=row.x1, y1=row.y1, \n",
    "        x2=row.x2, y2=row.y2\n",
    "    )\n",
    "    dialogue = Dialogue(text, bb)\n",
    "\n",
    "    if len(text) < 3:\n",
    "        continue\n",
    "\n",
    "    if current_panel == row.panel_no and current_comic == row.comic_no: \n",
    "        panel.dialogues.append(dialogue)\n",
    "\n",
    "    else:  \n",
    "        if added_context_panels == 0:\n",
    "            new_sample = Sample(\n",
    "                context_panels=[],\n",
    "                answer_candidates=[],\n",
    "            )\n",
    "            samples_list.append(new_sample)     \n",
    "\n",
    "        samples_list[-1].context_panels.append(panel)\n",
    "\n",
    "        current_panel = row.panel_no\n",
    "        panel = Panel(dialogues=[dialogue])\n",
    "\n",
    "        added_context_panels += 1\n",
    "\n",
    "        if added_context_panels > 2 or current_comic != row.comic_no:\n",
    "            current_comic = row.comic_no\n",
    "            added_context_panels = 0 \n",
    "            samples_list[-1].answer_target = samples_list[-1].context_panels[-1].dialogues.pop()\n",
    "\n",
    "            if (len(samples_list[-1].context_panels) <= 1 \n",
    "                and len(samples_list[-1].context_panels[0].dialogues) < 1):\n",
    "                samples_list.pop()      \n",
    "\n",
    "samples_list[-1].context_panels.append(panel)\n",
    "samples_list[-1].answer_target = samples_list[-1].context_panels[-1].dialogues.pop()\n",
    "\n",
    "if (len(samples_list[-1].context_panels) <= 1 \n",
    "    and len(samples_list[-1].context_panels[0].dialogues) <= 1):\n",
    "    samples_list.pop()"
   ]
  },
  {
   "cell_type": "markdown",
   "metadata": {},
   "source": [
    "## Adding answer choices"
   ]
  },
  {
   "cell_type": "code",
   "execution_count": null,
   "metadata": {},
   "outputs": [],
   "source": []
  },
  {
   "cell_type": "markdown",
   "metadata": {},
   "source": [
    "## Saving to disk"
   ]
  },
  {
   "cell_type": "code",
   "execution_count": 42,
   "metadata": {},
   "outputs": [],
   "source": [
    "import json\n",
    "\n",
    "\n",
    "class EnhancedJSONEncoder(json.JSONEncoder):\n",
    "        def default(self, o):\n",
    "            if is_dataclass(o):\n",
    "                return asdict(o)\n",
    "            return super().default(o)\n",
    "\n",
    "\n",
    "with open(\"../datasets/COMICS/text_only_test.json\", \"w\", encoding=\"utf-8\") as out:\n",
    "    json.dump({\"samples\":samples_list}, out, cls=EnhancedJSONEncoder, separators=(',', ':')) "
   ]
  }
 ],
 "metadata": {
  "interpreter": {
   "hash": "7ba40e7e236e41fc04a63b51275b4ee67675e4a3b6c6e14b2264418ab35962ef"
  },
  "kernelspec": {
   "display_name": "Python 3.9.7 ('comics')",
   "language": "python",
   "name": "python3"
  },
  "language_info": {
   "codemirror_mode": {
    "name": "ipython",
    "version": 3
   },
   "file_extension": ".py",
   "mimetype": "text/x-python",
   "name": "python",
   "nbconvert_exporter": "python",
   "pygments_lexer": "ipython3",
   "version": "3.9.7"
  },
  "orig_nbformat": 4
 },
 "nbformat": 4,
 "nbformat_minor": 2
}
